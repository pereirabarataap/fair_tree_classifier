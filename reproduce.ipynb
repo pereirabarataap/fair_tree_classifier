{
 "cells": [
  {
   "cell_type": "code",
   "execution_count": null,
   "id": "manual-pendant",
   "metadata": {},
   "outputs": [],
   "source": [
    "import os\n",
    "from results import *\n",
    "from experiments import *\n",
    "from hyperparameters import *"
   ]
  },
  {
   "cell_type": "code",
   "execution_count": null,
   "id": "painted-march",
   "metadata": {},
   "outputs": [],
   "source": [
    "datasets_folder = os.getcwd() + \"/datasets\"\n",
    "experiments_folder = os.getcwd() + \"/experiments\""
   ]
  },
  {
   "cell_type": "code",
   "execution_count": null,
   "id": "applied-miami",
   "metadata": {},
   "outputs": [],
   "source": [
    "make_setup(\n",
    "    n_bins, max_depth, random_state, n_folds,\n",
    "    datasets_folder, experiments_folder, methods, datasets\n",
    ")"
   ]
  },
  {
   "cell_type": "code",
   "execution_count": null,
   "id": "silver-direction",
   "metadata": {},
   "outputs": [],
   "source": [
    "run_experiments(\n",
    "    n_jobs, n_bins, n_folds, max_depth, bootstrap, random_state, n_estimators, max_features,\n",
    "    orthogonalities, datasets_folder, experiments_folder, methods, datasets\n",
    ")"
   ]
  },
  {
   "cell_type": "code",
   "execution_count": null,
   "id": "blind-insight",
   "metadata": {},
   "outputs": [],
   "source": [
    "make_2d_fig(n_folds, orthogonalities, methods, datasets)"
   ]
  },
  {
   "cell_type": "code",
   "execution_count": null,
   "id": "comparable-patio",
   "metadata": {
    "tags": []
   },
   "outputs": [],
   "source": [
    "make_3d_fig(n_folds, orthogonalities)"
   ]
  },
  {
   "cell_type": "code",
   "execution_count": null,
   "id": "secret-framing",
   "metadata": {},
   "outputs": [],
   "source": [
    "make_corr_table(n_folds, orthogonalities)"
   ]
  }
 ],
 "metadata": {
  "kernelspec": {
   "display_name": "Python 3",
   "language": "python",
   "name": "python3"
  },
  "language_info": {
   "codemirror_mode": {
    "name": "ipython",
    "version": 3
   },
   "file_extension": ".py",
   "mimetype": "text/x-python",
   "name": "python",
   "nbconvert_exporter": "python",
   "pygments_lexer": "ipython3",
   "version": "3.8.5"
  },
  "toc-showcode": false
 },
 "nbformat": 4,
 "nbformat_minor": 5
}
