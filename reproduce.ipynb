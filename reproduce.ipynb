{
 "cells": [
  {
   "cell_type": "code",
   "execution_count": null,
   "id": "e6a61ba1-fb5d-44bf-aae6-c1517d95f6ab",
   "metadata": {},
   "outputs": [],
   "source": [
    "import os\n",
    "from results import *\n",
    "from experiments import *\n",
    "from hyperparameters import * "
   ]
  },
  {
   "cell_type": "code",
   "execution_count": null,
   "id": "be7461b9-b31e-4305-aae1-7af08d69911f",
   "metadata": {},
   "outputs": [],
   "source": [
    "datasets_folder = os.getcwd() + \"/datasets\"\n",
    "experiments_folder = os.getcwd() + \"/experiments\""
   ]
  },
  {
   "cell_type": "code",
   "execution_count": null,
   "id": "8a75e8bd-b920-4c82-8056-93b7ef05a6a5",
   "metadata": {},
   "outputs": [],
   "source": [
    "make_setup(\n",
    "    n_bins, max_depth, random_state, n_folds,\n",
    "    datasets_folder, experiments_folder, methods, datasets\n",
    ")"
   ]
  },
  {
   "cell_type": "code",
   "execution_count": null,
   "id": "8d3b8284-2cf0-46e5-8be2-770a12dbc866",
   "metadata": {},
   "outputs": [],
   "source": [
    "run_experiments(\n",
    "    n_jobs, n_bins, n_folds, max_depth, bootstrap, random_state, n_estimators, max_features,\n",
    "    orthogonalities, datasets_folder, experiments_folder, methods, datasets\n",
    ")"
   ]
  },
  {
   "cell_type": "code",
   "execution_count": null,
   "id": "7ee56d24-d347-41b6-ae86-3bbe37e3daac",
   "metadata": {},
   "outputs": [],
   "source": [
    "make_2d_fig(n_folds, orthogonalities, methods, datasets)"
   ]
  },
  {
   "cell_type": "code",
   "execution_count": null,
   "id": "1dbec7b8-d68f-4fef-b220-c72b91d12960",
   "metadata": {
    "tags": []
   },
   "outputs": [],
   "source": [
    "make_3d_fig(n_folds, orthogonalities)"
   ]
  },
  {
   "cell_type": "code",
   "execution_count": null,
   "id": "db3bc9a5-8631-4aa4-a828-67e611e46c43",
   "metadata": {},
   "outputs": [],
   "source": [
    "make_corr_table(n_folds, orthogonalities)"
   ]
  }
 ],
 "metadata": {
  "kernelspec": {
   "display_name": "Python 3",
   "language": "python",
   "name": "python3"
  },
  "language_info": {
   "codemirror_mode": {
    "name": "ipython",
    "version": 3
   },
   "file_extension": ".py",
   "mimetype": "text/x-python",
   "name": "python",
   "nbconvert_exporter": "python",
   "pygments_lexer": "ipython3",
   "version": "3.8.5"
  },
  "toc-showcode": false
 },
 "nbformat": 4,
 "nbformat_minor": 5
}
