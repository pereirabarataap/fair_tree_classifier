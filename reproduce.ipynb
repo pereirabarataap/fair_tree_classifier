{
 "cells": [
  {
   "cell_type": "code",
   "execution_count": null,
   "id": "handy-productivity",
   "metadata": {},
   "outputs": [],
   "source": [
    "import os\n",
    "from results import *\n",
    "from experiments import *\n",
    "from hyperparameters import *"
   ]
  },
  {
   "cell_type": "code",
   "execution_count": null,
   "id": "unable-conservation",
   "metadata": {},
   "outputs": [],
   "source": [
    "datasets_folder = os.getcwd() + \"/datasets\"\n",
    "experiments_folder = os.getcwd() + \"/experiments\""
   ]
  },
  {
   "cell_type": "code",
   "execution_count": null,
   "id": "8849b2df-49b4-4c25-9639-0d60328237e1",
   "metadata": {},
   "outputs": [],
   "source": [
    "make_setup(\n",
    "    n_bins, max_depth, random_state, n_folds,\n",
    "    datasets_folder, experiments_folder, methods, datasets\n",
    ")"
   ]
  },
  {
   "cell_type": "code",
   "execution_count": null,
   "id": "e6d4e438-4728-4e31-b615-436136c0d79e",
   "metadata": {},
   "outputs": [],
   "source": [
    "run_experiments(\n",
    "    n_jobs, n_bins, n_folds, max_depth, bootstrap, random_state, n_estimators, max_features,\n",
    "    orthogonalities, datasets_folder, experiments_folder, methods, datasets\n",
    ")"
   ]
  },
  {
   "cell_type": "code",
   "execution_count": null,
   "id": "useful-yacht",
   "metadata": {
    "tags": []
   },
   "outputs": [],
   "source": [
    "dfs = []\n",
    "for dataset in datasets:\n",
    "    if \"multiple\" not in dataset:\n",
    "        print(dataset)\n",
    "        df = make_corr_table_pearson(n_folds, orthogonalities, dataset)\n",
    "        print(\"\\n\\n\\n\")\n",
    "        dfs.append(df)"
   ]
  }
 ],
 "metadata": {
  "kernelspec": {
   "display_name": "Python 3",
   "language": "python",
   "name": "python3"
  },
  "language_info": {
   "codemirror_mode": {
    "name": "ipython",
    "version": 3
   },
   "file_extension": ".py",
   "mimetype": "text/x-python",
   "name": "python",
   "nbconvert_exporter": "python",
   "pygments_lexer": "ipython3",
   "version": "3.8.5"
  },
  "toc-showcode": false
 },
 "nbformat": 4,
 "nbformat_minor": 5
}
